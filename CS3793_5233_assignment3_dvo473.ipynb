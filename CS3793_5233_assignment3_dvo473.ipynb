{
  "nbformat": 4,
  "nbformat_minor": 0,
  "metadata": {
    "colab": {
      "name": "CS3793_5233_assignment3_dvo473.ipynb",
      "provenance": [],
      "collapsed_sections": [],
      "include_colab_link": true
    },
    "kernelspec": {
      "name": "python3",
      "display_name": "Python 3"
    }
  },
  "cells": [
    {
      "cell_type": "markdown",
      "metadata": {
        "id": "view-in-github",
        "colab_type": "text"
      },
      "source": [
        "<a href=\"https://colab.research.google.com/github/michaelchapa/ai_machineLearning_assign3/blob/master/CS3793_5233_assignment3_dvo473.ipynb\" target=\"_parent\"><img src=\"https://colab.research.google.com/assets/colab-badge.svg\" alt=\"Open In Colab\"/></a>"
      ]
    },
    {
      "cell_type": "markdown",
      "metadata": {
        "id": "9wUL_Fy5qUDI",
        "colab_type": "text"
      },
      "source": [
        "# UTSA CS 3793/5233: Assignment-3\n",
        "\n",
        "Summer 2020\n",
        "\n",
        "\n",
        "**Chapa - Michael - (dvo473)**\n",
        "\n",
        "\n",
        "\n",
        "\n"
      ]
    },
    {
      "cell_type": "markdown",
      "metadata": {
        "id": "NM8b9KVYsETT",
        "colab_type": "text"
      },
      "source": [
        "## Learning Objectives\n",
        "\n",
        "Implement 2 different machine learning algorithms\n",
        "*   Stochastic Gradient Descent\n",
        "*   ID3 Decision Tree\n"
      ]
    },
    {
      "cell_type": "markdown",
      "metadata": {
        "id": "LzR4Ic34zJlT",
        "colab_type": "text"
      },
      "source": [
        "\n",
        "## Description\n",
        "\n",
        "This assignment is focused on **machine learning**, mainly on the implementation of 2 different algorithms - Stochastic Gradient Descent & ID3 decision tree. \n",
        "The assignment is divided into two sections, each for one unique ML algorithm. \n",
        "\n",
        "The base structure and comments are provided on what should be done. You can use some libraries that help support you for the successful completion of the assignment. However, you **CANNOT** use a complete library that contains the implementation of ML algorithms. You can get pieces of code from online, but please cite the source properly.\n"
      ]
    },
    {
      "cell_type": "markdown",
      "metadata": {
        "id": "vnPfmHAOteOI",
        "colab_type": "text"
      },
      "source": [
        "##Import Libraries\n",
        "\n",
        "Write all the import statements here. This should be for both algorithm implmentations. As mentioned before, you can not use any premade ML libraries."
      ]
    },
    {
      "cell_type": "code",
      "metadata": {
        "id": "f9apbZGptej6",
        "colab_type": "code",
        "colab": {}
      },
      "source": [
        "# import all required libraries\n",
        "\n"
      ],
      "execution_count": null,
      "outputs": []
    },
    {
      "cell_type": "markdown",
      "metadata": {
        "id": "YeYRnesWqvLm",
        "colab_type": "text"
      },
      "source": [
        "#Stochastic Gradient Descent\n",
        "\n",
        "In this section, you will implement the Stochastic Gradient Descent algorithm. The training is for a **binary classification** task i.e. each instance will have a class value of 0 or 1. Also, assume that you are given **all binary-valued attributes** and that there are **no missing values** in the train or test data. \n"
      ]
    },
    {
      "cell_type": "markdown",
      "metadata": {
        "id": "IUVZIK6ctMi4",
        "colab_type": "text"
      },
      "source": [
        "##Algorithm\n",
        "\n",
        "(40 points)\n",
        "\n",
        "Following are the data files that will be provided to you for the gradient descent algorithm implementation.\n",
        "\n",
        "*   Training file - 'gd-train.dat'\n",
        "*   Testing file - 'gd-test.dat'\n",
        "\n",
        "*Both these files should be present in the same folder as this code file.* In these files, only non-space characters are relevant. The first line contains the attribute names. All the other lines are different example instances to be used for the algorithm. Each column holds values of the attributes, whereas the last column holds the class label for that instance.\n",
        "\n",
        "Write the code in the following code block, structure is provided. Instructions on the steps to follow are provided as comments.\n",
        "\n"
      ]
    },
    {
      "cell_type": "code",
      "metadata": {
        "id": "YdPwgSBOtb1P",
        "colab_type": "code",
        "colab": {}
      },
      "source": [
        "# Data file name variables\n",
        "train = 'gd-train.dat'\n",
        "test = 'gd-test.dat'\n",
        "\n",
        "# Threshold of 0.5 will be used to classify the instance for the test. If the value is >= 0.5, classify as 1 or else 0.\n",
        "threshold = 0.5\n",
        "\n",
        "\n",
        "# Open the training file\n",
        "# Read the first line to get the number of attributes\n",
        "# Initialize weights for all attributes to 0\n",
        "# Read all the training instances\n",
        "\n",
        "\n",
        "# The learning rate for the algorithm. You will loop through the data and train for different learning rates from 0.05-1, in increments of 0.05.  \n",
        "learning_rate = 0.05 \n",
        "\n",
        "# Main algorithm loop\n",
        "# Loop through all the different learning rates as mentioned above\n",
        "    # For each learning rate selected, train the and calculate the weights\n",
        "    # Loop through all the data instances in the training file. We will only perform 1 iteration of the complete training data\n",
        "        # For each instance, get the output class label using the original weights\n",
        "        # Get the error value using the provided class label\n",
        "        # Update the weights using the selected learning rate\n",
        "\n",
        "    # Use the above trained model to predict the training data and print the accuracy as \"Accuracy for LR of 0.1 on Training set = x %\"\n",
        "        # For each training instance, predict the output label using the threshold of 0.5\n",
        "        # Compare it with the ground truth class label and calculate the positive and negative classification for accuracy\n",
        "    # Use the above trained model to predict the testing data and print the accuracy as \"Accuracy for LR of 0.1 on Testing set = x %\"\n",
        "        # For each testing instance, predict the output label using the threshold of 0.5\n",
        "        # Compare it with the ground truth class label and calculate the positive and negative classification for accuracy\n",
        "\n",
        "\n"
      ],
      "execution_count": null,
      "outputs": []
    },
    {
      "cell_type": "markdown",
      "metadata": {
        "id": "lYxmgcnes9cS",
        "colab_type": "text"
      },
      "source": [
        "##Extra Credit - Accuracy Plots\n",
        "\n",
        "(5 points)\n",
        "\n",
        "Use the above accuracy results on the training and testing data and write code to plot the graphs as mentioned in the code block below.\n",
        "\n"
      ]
    },
    {
      "cell_type": "code",
      "metadata": {
        "id": "fbBNakSDq0Wv",
        "colab_type": "code",
        "colab": {}
      },
      "source": [
        "# Plot the graphs for accuracy results.\n",
        "# There will be 2 graphs - one for training data and the other for testing data\n",
        "# For each graph,\n",
        "    # X-axis will be the learning rate going from 0.05-1 in increments on 0.05\n",
        "    # Y-axis will be the accuracy values at the selected learning rate.\n",
        "\n"
      ],
      "execution_count": null,
      "outputs": []
    },
    {
      "cell_type": "markdown",
      "metadata": {
        "id": "onnqJYTEq0l3",
        "colab_type": "text"
      },
      "source": [
        "#ID3 Decision Tree\n",
        "\n",
        "In this section, you will implement the ID3 Decision Tree algorithm. The training is for a **binary classification** task i.e. each instance will have a class value of 0 or 1. Also, assume that you are given **all binary-valued attributes** and that there are **no missing values** in the train or test data. \n"
      ]
    },
    {
      "cell_type": "markdown",
      "metadata": {
        "id": "eDNztBkTtRPw",
        "colab_type": "text"
      },
      "source": [
        "##Algorithm\n",
        "\n",
        "(80 points)\n",
        "\n",
        "Following are the data files that will be provided to you for the ID3 algorithm implementation.\n",
        "\n",
        "*   Training file - 'id3-train.dat'\n",
        "*   Testing file - 'id3-test.dat'\n",
        "\n",
        "*Both these files should be present in the same folder as this code file.* In these files, only non-space characters are relevant. The first line contains the attribute names. All the other lines are example instances to be used for the algorithm. Each column holds values of the attributes, whereas the last column holds the class label for that instance.\n",
        "\n",
        "In a decision tree, if you reach a leaf node but still have examples that belong to different classes, then choose the most frequent class (among the instances at the leaf node). If you reach a leaf node in the decision tree and have no examples left or the examples are equally split among multiple classes, then choose the class that is most frequent in the entire training set. You do not need to implement pruning. Also, don’t forget to use logarithm base 2 when computing entropy and set (0 log 0) to 0.\n",
        "\n",
        "Write the code in the following code block, structure is provided. Instructions on the steps to follow are provided as comments. The code should output the following 3 things:\n",
        "\n",
        "*   Print the Decision Tree created, in the following example format:\n",
        "\n",
        "    ```\n",
        "    attr1 = 0 :\n",
        "        attr2 = 0 :\n",
        "            attr3 = 0 : 1\n",
        "            attr3 = 1 : 0\n",
        "        attr3 = 1 :\n",
        "            attr4 = 0 : 0\n",
        "            attr4 = 1 : 1\n",
        "    attr1 = 1 :\n",
        "        attr2 = 1 : 1\n",
        "\n",
        "    ```\n",
        "\n",
        "*   Accuracy on the Training data = x %\n",
        "*   Accuracy on the Test data = x %\n",
        "\n",
        "\n",
        "\n"
      ]
    },
    {
      "cell_type": "code",
      "metadata": {
        "id": "XELGzRDftS77",
        "colab_type": "code",
        "colab": {}
      },
      "source": [
        "# Following is the base code structure. You are free to change the code structure as you see fit, maybe even create more functions.\n",
        "\n",
        "\n",
        "# Pseudocode for the ID3 algorithm. Use this to create a function. You can also have more functions for the other parts mentioned.\n",
        "# def ID3(data, root, attributesRemaining):\n",
        "    # If you reach a leaf node in the decision tree and have no examples left or the examples are equally split among multiple classes\n",
        "        # Choose and the class that is most frequent in the entire training set and return the updated tree\n",
        "    # If all the instances have only one class label\n",
        "        # Make this as the leal node and use the label as the class value of the node and return the updated tree\n",
        "    # If you reahed a leaf node but still have examples that belong to different classes (there are no remaining attributes to be split)\n",
        "        # Assign the most frequent class among the instances at the leaf node and return the updated tree\n",
        "    # Find the best attribute to split by calculating the maximum information gain from the attributes remaining by calculating the entropy\n",
        "    # Split the tree using the best attribute and recursively call the ID3 function using DFS to fill the sub-tree\n",
        "    # return the root as the tree\n",
        "\n",
        "\n",
        "\n",
        "# Data file name variables\n",
        "train = 'id3-train.dat'\n",
        "test = 'id3-test.dat'\n",
        "\n",
        "# Read the first line in the training data file, to get the number of attributes\n",
        "# Read all the training instances and the ground truth class labels.\n",
        "# Create the decision tree by implementing the ID3 algorithm. Pseudocode provided above.\n",
        "# Print the tree in the example format mentioned.\n",
        "# Use the above created tree to predict the training data and print the accuracy as \"Accuracy on the Training data = x %\"\n",
        "    # For each training instance, predict the output label\n",
        "    # Compare it with the ground truth class label and calculate the accuracy accordingly\n",
        "# Use the above created tree to predict the testing data and print the accuracy as \"Accuracy on the Test data = x %\"\n",
        "    # For each testing instance, predict the output label\n",
        "    # Compare it with the ground truth class label and calculate the accuracy accordingly\n",
        "\n",
        "\n"
      ],
      "execution_count": null,
      "outputs": []
    },
    {
      "cell_type": "markdown",
      "metadata": {
        "id": "YvYowzzA4vcd",
        "colab_type": "text"
      },
      "source": [
        "##Extra Credit - Learning Curve\n",
        "\n",
        "(10 points)\n",
        "\n",
        "Instead of taking the entire training data (all 800 instances), loop through to select 'x' instances in the increments of 40 (i.e. 40, 80, 120, and so on). For each selected number 'x', randomly pick the example instances from the training data and call the ID3 function to create the decision tree. Calculate the accuracy of the created ID3 tree on the Test data file. Plot the corresponding graph, aka Learning Curve.\n"
      ]
    },
    {
      "cell_type": "code",
      "metadata": {
        "id": "FYSK99zp5a7H",
        "colab_type": "code",
        "colab": {}
      },
      "source": [
        "# Loop through to select the number of instances 'x' in increments of 40\n",
        "# For each 'x',\n",
        "    # Randomly select 'x' instances\n",
        "    # Create the ID3 decision tree using those instances\n",
        "    # Calculate the accuracy of the ID3 tree created on the Test data\n",
        "\n",
        "# Plot the learning curve using the accuracy values\n",
        "    # X-axis will be the number of training instances used for creating the tree\n",
        "    # Y-axis will be the accuracy in % on the Test data\n",
        "\n",
        "\n"
      ],
      "execution_count": null,
      "outputs": []
    },
    {
      "cell_type": "markdown",
      "metadata": {
        "id": "YJSFgNBQrhQU",
        "colab_type": "text"
      },
      "source": [
        "#Submission Instructions\n",
        "\n",
        "\n",
        "\n",
        "1.   Complete all tasks above.\n",
        "2.   Export this notebook as .ipynb\n",
        "      (File > Download as ipynb)\n",
        "3.   Upload the .ipynb file on Blackboard\n",
        "\n"
      ]
    },
    {
      "cell_type": "markdown",
      "metadata": {
        "id": "0lGvLE9H6ptL",
        "colab_type": "text"
      },
      "source": [
        "##Rubric\n",
        "\n",
        "*   (40 points) Gradient Descent Algorithm\n",
        "*   (05 points) Extra Credit - GD Accuracy Plots\n",
        "*   (80 points) ID3 Algorithm\n",
        "*   (10 points) Extra Credit - ID3 Learning Curve\n",
        "\n",
        "\n",
        "\n"
      ]
    }
  ]
}